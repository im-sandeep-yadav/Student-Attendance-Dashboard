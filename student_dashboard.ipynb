{
  "cells": [
    {
      "cell_type": "markdown",
      "metadata": {},
      "source": [
        "# Student Attendance Dashboard - Notebook Demo\nThis notebook loads the CSV, computes attendance%, and plots charts."
      ]
    },
    {
      "cell_type": "code",
      "metadata": {},
      "source": [
        "import pandas as pd\nimport matplotlib.pyplot as plt\n\ndf = pd.read_csv('../data/students.csv')\ndf['Attendance%'] = round((df['ClassesAttended']/df['TotalClasses'])*100,2)\ndf['Category'] = pd.cut(df['Attendance%'], bins=[-1,40,75,100], labels=['Low (<40%)','Medium (40-75%)','High (>75%)'])\n\ndf"
      ]
    },
    {
      "cell_type": "code",
      "metadata": {},
      "source": [
        "plt.figure(figsize=(8,4))\nplt.bar(df['Name'], df['Attendance%'])\nplt.ylim(0,100)\nplt.title('Attendance % per Student')\nplt.show()"
      ]
    },
    {
      "cell_type": "code",
      "metadata": {},
      "source": [
        "counts = df['Category'].value_counts().reindex(['Low (<40%)','Medium (40-75%)','High (>75%)']).fillna(0)\nplt.figure(figsize=(6,6))\nplt.pie(counts, labels=counts.index, autopct='%1.1f%%', startangle=90)\nplt.axis('equal')\nplt.show()"
      ]
    }
  ],
  "metadata": {
    "kernelspec": {
      "display_name": "Python 3",
      "language": "python",
      "name": "python3"
    },
    "language_info": {
      "name": "python"
    }
  },
  "nbformat": 4,
  "nbformat_minor": 5
}